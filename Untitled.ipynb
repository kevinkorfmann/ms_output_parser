{
 "cells": [
  {
   "cell_type": "code",
   "execution_count": 1,
   "metadata": {},
   "outputs": [],
   "source": [
    "#include <fstream>\n",
    "#include <iostream>\n",
    "#include <vector>"
   ]
  },
  {
   "cell_type": "code",
   "execution_count": 2,
   "metadata": {},
   "outputs": [],
   "source": [
    "void PrintVector(std::vector<double> v) {\n",
    "    for (auto i : v) {\n",
    "        std::cout << i;\n",
    "    }\n",
    "    std::cout << std::endl;\n",
    "}"
   ]
  },
  {
   "cell_type": "code",
   "execution_count": 3,
   "metadata": {},
   "outputs": [
    {
     "name": "stdout",
     "output_type": "stream",
     "text": [
      "435\n"
     ]
    }
   ],
   "source": [
    "PrintVector(std::vector<double>{4,3,5})"
   ]
  },
  {
   "cell_type": "code",
   "execution_count": 4,
   "metadata": {},
   "outputs": [],
   "source": [
    "std::ifstream infile(\"ms.out\")"
   ]
  },
  {
   "cell_type": "code",
   "execution_count": null,
   "metadata": {},
   "outputs": [
    {
     "name": "stdout",
     "output_type": "stream",
     "text": [
      "[PARSED] //\n",
      "[PARSED]segsites: 4\n",
      "[PARSED] positions: 0.0110.07650.65570.7571\n",
      "[PARSED] Genotype matrix: \n",
      "0010\n",
      "0100\n",
      "0000\n",
      "1001\n"
     ]
    }
   ],
   "source": [
    "int line_num = 0;\n",
    "std::string line;\n",
    "std::string data;\n",
    "int n_individuals = 4;\n",
    "\n",
    "while (std::getline(infile, line))\n",
    "{\n",
    "    if (line.empty()) continue;\n",
    "        \n",
    "    std::istringstream iss;\n",
    "    \n",
    "    // parse random numbers\n",
    "    if (line_num == 0){\n",
    "        iss.str(line);\n",
    "        int a, b, c;\n",
    "        if (!(iss >> a >> b >> c)) { break; }\n",
    "        \n",
    "    \n",
    "    } else {\n",
    "        if (line.compare(0, 2, \"//\") == 0){\n",
    "            std::cout << \"[PARSED] \"<< line << std::endl;\n",
    "            \n",
    "            // parse segsites:\n",
    "            std::getline(infile, line);\n",
    "            iss.str(line);\n",
    "            std::string segsites;\n",
    "            int n_sites;\n",
    "            iss >> segsites;\n",
    "            iss >> n_sites;\n",
    "            std::cout << \"[PARSED]\" << segsites << \" \" << n_sites << std::endl;\n",
    "            iss.str(\"\");\n",
    "            \n",
    "            \n",
    "            \n",
    "            // parse positions;\n",
    "            std::getline(infile, line);\n",
    "            std::istringstream ss(line);\n",
    "            std::string token;\n",
    "            std::vector<double> sites;\n",
    "            while(std::getline(ss, token, ' ')) {\n",
    "                if (token.compare(\"positions:\") != 0) \n",
    "                    sites.emplace_back(stod(token));\n",
    "            }\n",
    "            std::cout << \"[PARSED] positions: \";\n",
    "            PrintVector(sites);\n",
    "            \n",
    "            \n",
    "            \n",
    "            // parse genotype\n",
    "            std::cout << \"[PARSED] Genotype matrix: \" << std::endl;;\n",
    "            std::vector<std::vector<int>> matrix{};\n",
    "            for (int i=0; i<n_individuals; i++) {\n",
    "                std::getline(infile, line);\n",
    "                matrix.emplace_back(std::vector<int>{});\n",
    "                for (int j=0; j<n_sites; j++) {\n",
    "                    matrix[i].emplace_back(line[j] - '0');\n",
    "                    std::cout << matrix[i][j];\n",
    "                } \n",
    "                std::cout << std::endl;\n",
    "            }\n",
    "            \n",
    "\n",
    "            \n",
    "            \n",
    "        \n",
    "            int a;\n",
    "            std::cin >> a;\n",
    "        }\n",
    "    }\n",
    "    line_num++;\n",
    "    \n",
    "    \n",
    "}"
   ]
  }
 ],
 "metadata": {
  "kernelspec": {
   "display_name": "C++14",
   "language": "C++14",
   "name": "xcpp14"
  },
  "language_info": {
   "codemirror_mode": "text/x-c++src",
   "file_extension": ".cpp",
   "mimetype": "text/x-c++src",
   "name": "c++",
   "version": "14"
  }
 },
 "nbformat": 4,
 "nbformat_minor": 4
}
